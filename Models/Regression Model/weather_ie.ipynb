{
 "cells": [
  {
   "cell_type": "code",
   "execution_count": 10,
   "metadata": {},
   "outputs": [],
   "source": [
    "# Libraries\n",
    "import pandas as pd\n",
    "import numpy as np\n",
    "import os # Library for interacting with the operating system\n",
    "\n",
    "\n",
    "# Visualizations\n",
    "import matplotlib.pyplot as plt\n",
    "\n",
    "# Machine Learning\n",
    "from sklearn.model_selection import train_test_split\n",
    "from sklearn.ensemble import RandomForestClassifier\n",
    "from sklearn.metrics import classification_report, confusion_matrix"
   ]
  },
  {
   "cell_type": "markdown",
   "metadata": {},
   "source": [
    "## 1. Loading Data"
   ]
  },
  {
   "cell_type": "code",
   "execution_count": 11,
   "metadata": {},
   "outputs": [
    {
     "name": "stderr",
     "output_type": "stream",
     "text": [
      "/var/folders/xj/vmtsvzgs6zj1l876xt4q0nkw0000gn/T/ipykernel_70892/1742169163.py:2: DtypeWarning: Columns (6) have mixed types. Specify dtype option on import or set low_memory=False.\n",
      "  weather_df = pd.read_csv('./dataset/weather.csv')\n"
     ]
    }
   ],
   "source": [
    "# load dataset\n",
    "weather_df = pd.read_csv('./dataset/weather.csv')"
   ]
  },
  {
   "cell_type": "markdown",
   "metadata": {},
   "source": [
    "## 2. Data Preprocessing and Cleaning"
   ]
  },
  {
   "cell_type": "code",
   "execution_count": 12,
   "metadata": {},
   "outputs": [
    {
     "name": "stdout",
     "output_type": "stream",
     "text": [
      "<class 'pandas.core.frame.DataFrame'>\n",
      "RangeIndex: 527040 entries, 0 to 527039\n",
      "Data columns (total 7 columns):\n",
      " #   Column   Non-Null Count   Dtype  \n",
      "---  ------   --------------   -----  \n",
      " 0   date     527040 non-null  object \n",
      " 1   speed    527040 non-null  float64\n",
      " 2   dir      527040 non-null  float64\n",
      " 3   drybulb  527040 non-null  float64\n",
      " 4   cbl      527040 non-null  float64\n",
      " 5   soltot   527040 non-null  float64\n",
      " 6   rain     527040 non-null  object \n",
      "dtypes: float64(5), object(2)\n",
      "memory usage: 28.1+ MB\n"
     ]
    }
   ],
   "source": [
    "# show general information about the dataset\n",
    "weather_df.info()"
   ]
  },
  {
   "cell_type": "code",
   "execution_count": 13,
   "metadata": {},
   "outputs": [
    {
     "name": "stdout",
     "output_type": "stream",
     "text": [
      "Dataset contains 527040 rows and 7 columns.\n"
     ]
    },
    {
     "data": {
      "text/html": [
       "<div>\n",
       "<style scoped>\n",
       "    .dataframe tbody tr th:only-of-type {\n",
       "        vertical-align: middle;\n",
       "    }\n",
       "\n",
       "    .dataframe tbody tr th {\n",
       "        vertical-align: top;\n",
       "    }\n",
       "\n",
       "    .dataframe thead th {\n",
       "        text-align: right;\n",
       "    }\n",
       "</style>\n",
       "<table border=\"1\" class=\"dataframe\">\n",
       "  <thead>\n",
       "    <tr style=\"text-align: right;\">\n",
       "      <th></th>\n",
       "      <th>date</th>\n",
       "      <th>speed</th>\n",
       "      <th>dir</th>\n",
       "      <th>drybulb</th>\n",
       "      <th>cbl</th>\n",
       "      <th>soltot</th>\n",
       "      <th>rain</th>\n",
       "    </tr>\n",
       "  </thead>\n",
       "  <tbody>\n",
       "    <tr>\n",
       "      <th>0</th>\n",
       "      <td>01/01/2020 00:00</td>\n",
       "      <td>3.497</td>\n",
       "      <td>144.9</td>\n",
       "      <td>8.64</td>\n",
       "      <td>1025.535</td>\n",
       "      <td>0.0</td>\n",
       "      <td>0</td>\n",
       "    </tr>\n",
       "    <tr>\n",
       "      <th>1</th>\n",
       "      <td>01/01/2020 00:01</td>\n",
       "      <td>3.417</td>\n",
       "      <td>145.0</td>\n",
       "      <td>8.65</td>\n",
       "      <td>1025.535</td>\n",
       "      <td>0.0</td>\n",
       "      <td>0</td>\n",
       "    </tr>\n",
       "    <tr>\n",
       "      <th>2</th>\n",
       "      <td>01/01/2020 00:02</td>\n",
       "      <td>3.397</td>\n",
       "      <td>150.7</td>\n",
       "      <td>8.67</td>\n",
       "      <td>1025.527</td>\n",
       "      <td>0.0</td>\n",
       "      <td>0</td>\n",
       "    </tr>\n",
       "    <tr>\n",
       "      <th>3</th>\n",
       "      <td>01/01/2020 00:03</td>\n",
       "      <td>2.996</td>\n",
       "      <td>152.1</td>\n",
       "      <td>8.71</td>\n",
       "      <td>1025.510</td>\n",
       "      <td>0.0</td>\n",
       "      <td>0</td>\n",
       "    </tr>\n",
       "    <tr>\n",
       "      <th>4</th>\n",
       "      <td>01/01/2020 00:04</td>\n",
       "      <td>3.622</td>\n",
       "      <td>152.3</td>\n",
       "      <td>8.75</td>\n",
       "      <td>1025.507</td>\n",
       "      <td>0.0</td>\n",
       "      <td>0</td>\n",
       "    </tr>\n",
       "  </tbody>\n",
       "</table>\n",
       "</div>"
      ],
      "text/plain": [
       "               date  speed    dir  drybulb       cbl  soltot rain\n",
       "0  01/01/2020 00:00  3.497  144.9     8.64  1025.535     0.0    0\n",
       "1  01/01/2020 00:01  3.417  145.0     8.65  1025.535     0.0    0\n",
       "2  01/01/2020 00:02  3.397  150.7     8.67  1025.527     0.0    0\n",
       "3  01/01/2020 00:03  2.996  152.1     8.71  1025.510     0.0    0\n",
       "4  01/01/2020 00:04  3.622  152.3     8.75  1025.507     0.0    0"
      ]
     },
     "execution_count": 13,
     "metadata": {},
     "output_type": "execute_result"
    }
   ],
   "source": [
    "print(f\"Dataset contains {weather_df.shape[0]} rows and {weather_df.shape[1]} columns.\")\n",
    "weather_df.head()"
   ]
  },
  {
   "cell_type": "code",
   "execution_count": 14,
   "metadata": {},
   "outputs": [
    {
     "name": "stdout",
     "output_type": "stream",
     "text": [
      "date has 527040 unique values: ['01/01/2020 00:00' '01/01/2020 00:01' '01/01/2020 00:02'\n",
      " '01/01/2020 00:03' '01/01/2020 00:04'] \n",
      "\n",
      "rain has 28 unique values: ['0' '0.1' '0.2' '0.3' '0.5'] \n",
      "\n"
     ]
    }
   ],
   "source": [
    "# Check unique values for categorical columns \n",
    "for col in weather_df.select_dtypes(include=[\"object\", \"category\"]).columns:\n",
    "    print(f\"{col} has {weather_df[col].nunique()} unique values: {weather_df[col].unique()[:5]}\", '\\n')"
   ]
  },
  {
   "cell_type": "markdown",
   "metadata": {},
   "source": [
    "---\n",
    "### 2.1. Handling Missing Data"
   ]
  },
  {
   "cell_type": "code",
   "execution_count": 15,
   "metadata": {},
   "outputs": [
    {
     "name": "stdout",
     "output_type": "stream",
     "text": [
      "date       0\n",
      "speed      0\n",
      "dir        0\n",
      "drybulb    0\n",
      "cbl        0\n",
      "soltot     0\n",
      "rain       0\n",
      "dtype: int64\n"
     ]
    }
   ],
   "source": [
    "# check for missing data\n",
    "print(weather_df.isnull().sum())"
   ]
  },
  {
   "cell_type": "markdown",
   "metadata": {},
   "source": [
    "### 2.2 Transformation"
   ]
  },
  {
   "cell_type": "markdown",
   "metadata": {},
   "source": [
    "`Transform date columns to datetime type`"
   ]
  },
  {
   "cell_type": "code",
   "execution_count": 16,
   "metadata": {},
   "outputs": [],
   "source": [
    "# Standardize columns and dates\n",
    "weather_df.columns = [col.strip() for col in weather_df.columns]\n",
    "weather_df['date'] = pd.to_datetime(weather_df['date'], errors='coerce')"
   ]
  },
  {
   "cell_type": "code",
   "execution_count": 17,
   "metadata": {},
   "outputs": [],
   "source": [
    "# Saving cleaned dataset\n",
    "directory_name = 'dataset'\n",
    "output_filename = ' weather_ie_clean.csv'\n",
    "\n",
    "# Build the full path\n",
    "output_path = os.path.join(directory_name, output_filename)\n",
    "\n",
    "# Save the DataFrame to a CSV file\n",
    "weather_df.to_csv(output_path, index=False)\n"
   ]
  }
 ],
 "metadata": {
  "kernelspec": {
   "display_name": "ml-energy",
   "language": "python",
   "name": "python3"
  },
  "language_info": {
   "codemirror_mode": {
    "name": "ipython",
    "version": 3
   },
   "file_extension": ".py",
   "mimetype": "text/x-python",
   "name": "python",
   "nbconvert_exporter": "python",
   "pygments_lexer": "ipython3",
   "version": "3.11.11"
  }
 },
 "nbformat": 4,
 "nbformat_minor": 2
}
