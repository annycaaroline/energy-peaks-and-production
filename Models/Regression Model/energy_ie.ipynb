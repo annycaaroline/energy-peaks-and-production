{
 "cells": [
  {
   "cell_type": "code",
   "execution_count": 29,
   "metadata": {},
   "outputs": [],
   "source": [
    "# Libraries\n",
    "import pandas as pd\n",
    "import numpy as np\n",
    "import os # Library for interacting with the operating system\n",
    "\n",
    "# Visualizations\n",
    "import matplotlib.pyplot as plt\n",
    "\n",
    "# Machine Learning\n",
    "from sklearn.model_selection import train_test_split\n",
    "from sklearn.ensemble import RandomForestClassifier\n",
    "from sklearn.metrics import classification_report, confusion_matrix"
   ]
  },
  {
   "cell_type": "markdown",
   "metadata": {},
   "source": [
    "## 1. Loading Data"
   ]
  },
  {
   "cell_type": "code",
   "execution_count": 30,
   "metadata": {},
   "outputs": [],
   "source": [
    "# Upload files from H1 to H10\n",
    "files = [f'./Plots/H{i}_Wh.csv' for i in range(1, 11)]\n",
    "dfs = [pd.read_csv(f) for f in files]\n",
    "\n",
    "# Unite all energy data\n",
    "energy_df = pd.concat(dfs, ignore_index=True)"
   ]
  },
  {
   "cell_type": "markdown",
   "metadata": {},
   "source": [
    "## 2. Data Preprocessing and Cleaning"
   ]
  },
  {
   "cell_type": "code",
   "execution_count": 31,
   "metadata": {},
   "outputs": [
    {
     "name": "stdout",
     "output_type": "stream",
     "text": [
      "<class 'pandas.core.frame.DataFrame'>\n",
      "RangeIndex: 5270330 entries, 0 to 5270329\n",
      "Data columns (total 8 columns):\n",
      " #   Column               Dtype  \n",
      "---  ------               -----  \n",
      " 0   date                 object \n",
      " 1    Discharge(Wh)       float64\n",
      " 2    Charge(Wh)          float64\n",
      " 3    Production(Wh)      float64\n",
      " 4    Consumption(Wh)     float64\n",
      " 5    Feed-in(Wh)         float64\n",
      " 6    From grid(Wh)       float64\n",
      " 7    State of Charge(%)  float64\n",
      "dtypes: float64(7), object(1)\n",
      "memory usage: 321.7+ MB\n"
     ]
    }
   ],
   "source": [
    "# show general information about the dataset\n",
    "energy_info = energy_df.info()"
   ]
  },
  {
   "cell_type": "code",
   "execution_count": 32,
   "metadata": {},
   "outputs": [
    {
     "name": "stdout",
     "output_type": "stream",
     "text": [
      "Dataset contains 5270330 rows and 8 columns.\n"
     ]
    },
    {
     "data": {
      "text/html": [
       "<div>\n",
       "<style scoped>\n",
       "    .dataframe tbody tr th:only-of-type {\n",
       "        vertical-align: middle;\n",
       "    }\n",
       "\n",
       "    .dataframe tbody tr th {\n",
       "        vertical-align: top;\n",
       "    }\n",
       "\n",
       "    .dataframe thead th {\n",
       "        text-align: right;\n",
       "    }\n",
       "</style>\n",
       "<table border=\"1\" class=\"dataframe\">\n",
       "  <thead>\n",
       "    <tr style=\"text-align: right;\">\n",
       "      <th></th>\n",
       "      <th>date</th>\n",
       "      <th>Discharge(Wh)</th>\n",
       "      <th>Charge(Wh)</th>\n",
       "      <th>Production(Wh)</th>\n",
       "      <th>Consumption(Wh)</th>\n",
       "      <th>Feed-in(Wh)</th>\n",
       "      <th>From grid(Wh)</th>\n",
       "      <th>State of Charge(%)</th>\n",
       "    </tr>\n",
       "  </thead>\n",
       "  <tbody>\n",
       "    <tr>\n",
       "      <th>0</th>\n",
       "      <td>2020-01-01 01:01:00</td>\n",
       "      <td>0.0</td>\n",
       "      <td>0.13</td>\n",
       "      <td>0.0</td>\n",
       "      <td>1.58</td>\n",
       "      <td>0.0</td>\n",
       "      <td>1.71</td>\n",
       "      <td>0.0</td>\n",
       "    </tr>\n",
       "    <tr>\n",
       "      <th>1</th>\n",
       "      <td>2020-01-01 01:02:00</td>\n",
       "      <td>0.0</td>\n",
       "      <td>0.13</td>\n",
       "      <td>0.0</td>\n",
       "      <td>1.58</td>\n",
       "      <td>0.0</td>\n",
       "      <td>1.71</td>\n",
       "      <td>0.0</td>\n",
       "    </tr>\n",
       "    <tr>\n",
       "      <th>2</th>\n",
       "      <td>2020-01-01 01:03:00</td>\n",
       "      <td>0.0</td>\n",
       "      <td>0.13</td>\n",
       "      <td>0.0</td>\n",
       "      <td>1.57</td>\n",
       "      <td>0.0</td>\n",
       "      <td>1.70</td>\n",
       "      <td>0.0</td>\n",
       "    </tr>\n",
       "    <tr>\n",
       "      <th>3</th>\n",
       "      <td>2020-01-01 01:04:00</td>\n",
       "      <td>0.0</td>\n",
       "      <td>0.13</td>\n",
       "      <td>0.0</td>\n",
       "      <td>1.55</td>\n",
       "      <td>0.0</td>\n",
       "      <td>1.68</td>\n",
       "      <td>0.0</td>\n",
       "    </tr>\n",
       "    <tr>\n",
       "      <th>4</th>\n",
       "      <td>2020-01-01 01:05:00</td>\n",
       "      <td>0.0</td>\n",
       "      <td>0.13</td>\n",
       "      <td>0.0</td>\n",
       "      <td>1.55</td>\n",
       "      <td>0.0</td>\n",
       "      <td>1.68</td>\n",
       "      <td>0.0</td>\n",
       "    </tr>\n",
       "  </tbody>\n",
       "</table>\n",
       "</div>"
      ],
      "text/plain": [
       "                  date   Discharge(Wh)   Charge(Wh)   Production(Wh)  \\\n",
       "0  2020-01-01 01:01:00             0.0         0.13              0.0   \n",
       "1  2020-01-01 01:02:00             0.0         0.13              0.0   \n",
       "2  2020-01-01 01:03:00             0.0         0.13              0.0   \n",
       "3  2020-01-01 01:04:00             0.0         0.13              0.0   \n",
       "4  2020-01-01 01:05:00             0.0         0.13              0.0   \n",
       "\n",
       "    Consumption(Wh)   Feed-in(Wh)   From grid(Wh)   State of Charge(%)  \n",
       "0              1.58           0.0            1.71                  0.0  \n",
       "1              1.58           0.0            1.71                  0.0  \n",
       "2              1.57           0.0            1.70                  0.0  \n",
       "3              1.55           0.0            1.68                  0.0  \n",
       "4              1.55           0.0            1.68                  0.0  "
      ]
     },
     "execution_count": 32,
     "metadata": {},
     "output_type": "execute_result"
    }
   ],
   "source": [
    "print(f\"Dataset contains {energy_df.shape[0]} rows and {energy_df.shape[1]} columns.\")\n",
    "energy_df.head()"
   ]
  },
  {
   "cell_type": "code",
   "execution_count": 33,
   "metadata": {},
   "outputs": [
    {
     "name": "stdout",
     "output_type": "stream",
     "text": [
      "date has 527039 unique values: ['2020-01-01 01:01:00' '2020-01-01 01:02:00' '2020-01-01 01:03:00'\n",
      " '2020-01-01 01:04:00' '2020-01-01 01:05:00'] \n",
      "\n"
     ]
    }
   ],
   "source": [
    "# Check unique values for categorical columns in client data\n",
    "for col in energy_df.select_dtypes(include=[\"object\", \"category\"]).columns:\n",
    "    print(f\"{col} has {energy_df[col].nunique()} unique values: {energy_df[col].unique()[:5]}\", '\\n')"
   ]
  },
  {
   "cell_type": "markdown",
   "metadata": {},
   "source": [
    "---\n",
    "### 2.1. Handling Missing Data"
   ]
  },
  {
   "cell_type": "code",
   "execution_count": 34,
   "metadata": {},
   "outputs": [
    {
     "name": "stdout",
     "output_type": "stream",
     "text": [
      "date                   0\n",
      " Discharge(Wh)         0\n",
      " Charge(Wh)            0\n",
      " Production(Wh)        0\n",
      " Consumption(Wh)       0\n",
      " Feed-in(Wh)           0\n",
      " From grid(Wh)         0\n",
      " State of Charge(%)    0\n",
      "dtype: int64\n"
     ]
    }
   ],
   "source": [
    "# check for missing data\n",
    "print(energy_df.isnull().sum())"
   ]
  },
  {
   "cell_type": "markdown",
   "metadata": {},
   "source": [
    "### 2.2 Feature Engeneering and Transformation"
   ]
  },
  {
   "cell_type": "markdown",
   "metadata": {},
   "source": [
    "`Transform date columns to datetime type`"
   ]
  },
  {
   "cell_type": "code",
   "execution_count": 35,
   "metadata": {},
   "outputs": [],
   "source": [
    "# Standardize columns and dates\n",
    "for df in dfs:\n",
    "    df.columns = [col.strip() for col in df.columns]\n",
    "    df['date'] = pd.to_datetime(df['date'], errors='coerce')"
   ]
  },
  {
   "cell_type": "markdown",
   "metadata": {},
   "source": [
    "`Energy Feature Engeneering`"
   ]
  },
  {
   "cell_type": "code",
   "execution_count": 36,
   "metadata": {},
   "outputs": [
    {
     "name": "stdout",
     "output_type": "stream",
     "text": [
      "<class 'pandas.core.frame.DataFrame'>\n",
      "RangeIndex: 527039 entries, 0 to 527038\n",
      "Data columns (total 3 columns):\n",
      " #   Column                 Non-Null Count   Dtype  \n",
      "---  ------                 --------------   -----  \n",
      " 0   date                   527039 non-null  object \n",
      " 1   Total Production (Wh)  527039 non-null  float64\n",
      " 2   Total Consumption(Wh)  527039 non-null  float64\n",
      "dtypes: float64(2), object(1)\n",
      "memory usage: 12.1+ MB\n"
     ]
    }
   ],
   "source": [
    "# Group by date and add production and consumption\n",
    "energy_df.columns = [col.strip() for col in energy_df.columns]\n",
    "total_energy = energy_df.groupby('date')[['Production(Wh)', 'Consumption(Wh)']].sum().reset_index()\n",
    "\n",
    "# Rename columns\n",
    "total_energy.rename(columns={\n",
    "    'Production(Wh)': 'Total Production (Wh)',\n",
    "    'Consumption(Wh)': 'Total Consumption(Wh)'\n",
    "}, inplace=True)\n",
    "\n",
    "total_energy.info()"
   ]
  },
  {
   "cell_type": "code",
   "execution_count": 37,
   "metadata": {},
   "outputs": [],
   "source": [
    "# Saving cleaned dataset\n",
    "directory_name = 'dataset'\n",
    "output_filename = 'energy_ie_clean.csv'\n",
    "\n",
    "# Build the full path\n",
    "output_path = os.path.join(directory_name, output_filename)\n",
    "\n",
    "# Save the DataFrame to a CSV file\n",
    "total_energy.to_csv(output_path, index=False)"
   ]
  }
 ],
 "metadata": {
  "kernelspec": {
   "display_name": "ml-energy",
   "language": "python",
   "name": "python3"
  },
  "language_info": {
   "codemirror_mode": {
    "name": "ipython",
    "version": 3
   },
   "file_extension": ".py",
   "mimetype": "text/x-python",
   "name": "python",
   "nbconvert_exporter": "python",
   "pygments_lexer": "ipython3",
   "version": "3.11.11"
  }
 },
 "nbformat": 4,
 "nbformat_minor": 2
}
