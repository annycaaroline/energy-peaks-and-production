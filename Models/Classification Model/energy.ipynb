{
 "cells": [
  {
   "cell_type": "code",
   "execution_count": 49,
   "metadata": {},
   "outputs": [],
   "source": [
    "# Libraries\n",
    "import pandas as pd\n",
    "import numpy as np\n",
    "import os # Library for interacting with the operating system\n",
    "\n",
    "\n",
    "# Visualizations\n",
    "import matplotlib.pyplot as plt\n",
    "\n",
    "# Machine Learning\n",
    "from sklearn.model_selection import train_test_split\n",
    "from sklearn.ensemble import RandomForestClassifier\n",
    "from sklearn.metrics import classification_report, confusion_matrix"
   ]
  },
  {
   "cell_type": "markdown",
   "metadata": {},
   "source": [
    "## 1. Loading Data"
   ]
  },
  {
   "cell_type": "code",
   "execution_count": 50,
   "metadata": {},
   "outputs": [],
   "source": [
    "# load dataset\n",
    "energy_df = pd.read_csv('./dataset/loureiro_energy.csv')  "
   ]
  },
  {
   "cell_type": "markdown",
   "metadata": {},
   "source": [
    "## 2. Data Preprocessing and Cleaning"
   ]
  },
  {
   "cell_type": "code",
   "execution_count": 51,
   "metadata": {},
   "outputs": [
    {
     "name": "stdout",
     "output_type": "stream",
     "text": [
      "<class 'pandas.core.frame.DataFrame'>\n",
      "RangeIndex: 46608 entries, 0 to 46607\n",
      "Columns: 173 entries, Time to Energy_Meter_172\n",
      "dtypes: float64(172), object(1)\n",
      "memory usage: 61.5+ MB\n"
     ]
    }
   ],
   "source": [
    "# show general information about the dataset\n",
    "energy_info = energy_df.info()"
   ]
  },
  {
   "cell_type": "code",
   "execution_count": 52,
   "metadata": {},
   "outputs": [],
   "source": [
    "# Now select the first 8,000 rows:\n",
    "energy_df = energy_df.iloc[:8000].reset_index(drop=True)"
   ]
  },
  {
   "cell_type": "code",
   "execution_count": 53,
   "metadata": {},
   "outputs": [
    {
     "name": "stdout",
     "output_type": "stream",
     "text": [
      "Time                  0\n",
      "Energy_Meter_1        4\n",
      "Energy_Meter_2       96\n",
      "Energy_Meter_4        1\n",
      "Energy_Meter_8       99\n",
      "Energy_Meter_16      95\n",
      "Energy_Meter_17       1\n",
      "Energy_Meter_57      97\n",
      "Energy_Meter_68      99\n",
      "Energy_Meter_83      95\n",
      "Energy_Meter_90       2\n",
      "Energy_Meter_91       4\n",
      "Energy_Meter_94      99\n",
      "Energy_Meter_108     95\n",
      "Energy_Meter_113     96\n",
      "Energy_Meter_117     99\n",
      "Energy_Meter_118     97\n",
      "Energy_Meter_125      3\n",
      "Energy_Meter_132      1\n",
      "Energy_Meter_133     95\n",
      "Energy_Meter_135     95\n",
      "Energy_Meter_137     95\n",
      "Energy_Meter_139    100\n",
      "Energy_Meter_140      6\n",
      "Energy_Meter_144     98\n",
      "Energy_Meter_146     97\n",
      "Energy_Meter_151    100\n",
      "Energy_Meter_160     95\n",
      "Energy_Meter_164     95\n",
      "dtype: int64\n",
      "Colunas com até 100 nulos: ['Time', 'Energy_Meter_1', 'Energy_Meter_2', 'Energy_Meter_4', 'Energy_Meter_8', 'Energy_Meter_16', 'Energy_Meter_17', 'Energy_Meter_57', 'Energy_Meter_68', 'Energy_Meter_83', 'Energy_Meter_90', 'Energy_Meter_91', 'Energy_Meter_94', 'Energy_Meter_108', 'Energy_Meter_113', 'Energy_Meter_117', 'Energy_Meter_118', 'Energy_Meter_125', 'Energy_Meter_132', 'Energy_Meter_133', 'Energy_Meter_135', 'Energy_Meter_137', 'Energy_Meter_139', 'Energy_Meter_140', 'Energy_Meter_144', 'Energy_Meter_146', 'Energy_Meter_151', 'Energy_Meter_160', 'Energy_Meter_164']\n"
     ]
    }
   ],
   "source": [
    "# Count how many nulls there are in each column\n",
    "null_counts = energy_df.isnull().sum()\n",
    "\n",
    "# Filter only columns with up to 100 null values\n",
    "cols_ate_100 = null_counts[null_counts <= 100]\n",
    "\n",
    "# To see the result as a Series\n",
    "print(cols_ate_100)\n",
    "\n",
    "colunas = cols_ate_100.index.tolist()\n",
    "print(\"Colunas com até 100 nulos:\", colunas)\n"
   ]
  },
  {
   "cell_type": "code",
   "execution_count": 54,
   "metadata": {},
   "outputs": [
    {
     "name": "stdout",
     "output_type": "stream",
     "text": [
      "Dataset contains 8000 rows and 173 columns.\n"
     ]
    },
    {
     "data": {
      "text/html": [
       "<div>\n",
       "<style scoped>\n",
       "    .dataframe tbody tr th:only-of-type {\n",
       "        vertical-align: middle;\n",
       "    }\n",
       "\n",
       "    .dataframe tbody tr th {\n",
       "        vertical-align: top;\n",
       "    }\n",
       "\n",
       "    .dataframe thead th {\n",
       "        text-align: right;\n",
       "    }\n",
       "</style>\n",
       "<table border=\"1\" class=\"dataframe\">\n",
       "  <thead>\n",
       "    <tr style=\"text-align: right;\">\n",
       "      <th></th>\n",
       "      <th>Time</th>\n",
       "      <th>Energy_Meter_1</th>\n",
       "      <th>Energy_Meter_2</th>\n",
       "      <th>Energy_Meter_3</th>\n",
       "      <th>Energy_Meter_4</th>\n",
       "      <th>Energy_Meter_5</th>\n",
       "      <th>Energy_Meter_6</th>\n",
       "      <th>Energy_Meter_7</th>\n",
       "      <th>Energy_Meter_8</th>\n",
       "      <th>Energy_Meter_9</th>\n",
       "      <th>...</th>\n",
       "      <th>Energy_Meter_163</th>\n",
       "      <th>Energy_Meter_164</th>\n",
       "      <th>Energy_Meter_165</th>\n",
       "      <th>Energy_Meter_166</th>\n",
       "      <th>Energy_Meter_167</th>\n",
       "      <th>Energy_Meter_168</th>\n",
       "      <th>Energy_Meter_169</th>\n",
       "      <th>Energy_Meter_170</th>\n",
       "      <th>Energy_Meter_171</th>\n",
       "      <th>Energy_Meter_172</th>\n",
       "    </tr>\n",
       "  </thead>\n",
       "  <tbody>\n",
       "    <tr>\n",
       "      <th>0</th>\n",
       "      <td>2022-05-05 12:00:00</td>\n",
       "      <td>0.068</td>\n",
       "      <td>NaN</td>\n",
       "      <td>0.034</td>\n",
       "      <td>0.038</td>\n",
       "      <td>0.000</td>\n",
       "      <td>NaN</td>\n",
       "      <td>NaN</td>\n",
       "      <td>NaN</td>\n",
       "      <td>NaN</td>\n",
       "      <td>...</td>\n",
       "      <td>NaN</td>\n",
       "      <td>0.004</td>\n",
       "      <td>0.0</td>\n",
       "      <td>NaN</td>\n",
       "      <td>NaN</td>\n",
       "      <td>NaN</td>\n",
       "      <td>0.395</td>\n",
       "      <td>NaN</td>\n",
       "      <td>NaN</td>\n",
       "      <td>0.008</td>\n",
       "    </tr>\n",
       "    <tr>\n",
       "      <th>1</th>\n",
       "      <td>2022-05-05 12:15:00</td>\n",
       "      <td>0.070</td>\n",
       "      <td>NaN</td>\n",
       "      <td>0.044</td>\n",
       "      <td>0.062</td>\n",
       "      <td>0.006</td>\n",
       "      <td>NaN</td>\n",
       "      <td>NaN</td>\n",
       "      <td>NaN</td>\n",
       "      <td>NaN</td>\n",
       "      <td>...</td>\n",
       "      <td>NaN</td>\n",
       "      <td>0.003</td>\n",
       "      <td>0.0</td>\n",
       "      <td>NaN</td>\n",
       "      <td>NaN</td>\n",
       "      <td>NaN</td>\n",
       "      <td>0.316</td>\n",
       "      <td>NaN</td>\n",
       "      <td>NaN</td>\n",
       "      <td>0.056</td>\n",
       "    </tr>\n",
       "    <tr>\n",
       "      <th>2</th>\n",
       "      <td>2022-05-05 12:30:00</td>\n",
       "      <td>0.122</td>\n",
       "      <td>NaN</td>\n",
       "      <td>0.037</td>\n",
       "      <td>0.045</td>\n",
       "      <td>0.000</td>\n",
       "      <td>NaN</td>\n",
       "      <td>NaN</td>\n",
       "      <td>NaN</td>\n",
       "      <td>NaN</td>\n",
       "      <td>...</td>\n",
       "      <td>NaN</td>\n",
       "      <td>0.004</td>\n",
       "      <td>0.0</td>\n",
       "      <td>NaN</td>\n",
       "      <td>NaN</td>\n",
       "      <td>NaN</td>\n",
       "      <td>0.264</td>\n",
       "      <td>NaN</td>\n",
       "      <td>NaN</td>\n",
       "      <td>0.033</td>\n",
       "    </tr>\n",
       "    <tr>\n",
       "      <th>3</th>\n",
       "      <td>2022-05-05 12:45:00</td>\n",
       "      <td>0.132</td>\n",
       "      <td>NaN</td>\n",
       "      <td>0.015</td>\n",
       "      <td>0.039</td>\n",
       "      <td>0.000</td>\n",
       "      <td>NaN</td>\n",
       "      <td>NaN</td>\n",
       "      <td>NaN</td>\n",
       "      <td>NaN</td>\n",
       "      <td>...</td>\n",
       "      <td>NaN</td>\n",
       "      <td>0.004</td>\n",
       "      <td>0.0</td>\n",
       "      <td>NaN</td>\n",
       "      <td>NaN</td>\n",
       "      <td>NaN</td>\n",
       "      <td>0.139</td>\n",
       "      <td>NaN</td>\n",
       "      <td>NaN</td>\n",
       "      <td>0.062</td>\n",
       "    </tr>\n",
       "    <tr>\n",
       "      <th>4</th>\n",
       "      <td>2022-05-05 13:00:00</td>\n",
       "      <td>0.125</td>\n",
       "      <td>NaN</td>\n",
       "      <td>0.015</td>\n",
       "      <td>0.040</td>\n",
       "      <td>0.032</td>\n",
       "      <td>NaN</td>\n",
       "      <td>NaN</td>\n",
       "      <td>NaN</td>\n",
       "      <td>NaN</td>\n",
       "      <td>...</td>\n",
       "      <td>NaN</td>\n",
       "      <td>0.004</td>\n",
       "      <td>0.0</td>\n",
       "      <td>NaN</td>\n",
       "      <td>NaN</td>\n",
       "      <td>NaN</td>\n",
       "      <td>0.138</td>\n",
       "      <td>NaN</td>\n",
       "      <td>NaN</td>\n",
       "      <td>0.024</td>\n",
       "    </tr>\n",
       "  </tbody>\n",
       "</table>\n",
       "<p>5 rows × 173 columns</p>\n",
       "</div>"
      ],
      "text/plain": [
       "                  Time  Energy_Meter_1  Energy_Meter_2  Energy_Meter_3  \\\n",
       "0  2022-05-05 12:00:00           0.068             NaN           0.034   \n",
       "1  2022-05-05 12:15:00           0.070             NaN           0.044   \n",
       "2  2022-05-05 12:30:00           0.122             NaN           0.037   \n",
       "3  2022-05-05 12:45:00           0.132             NaN           0.015   \n",
       "4  2022-05-05 13:00:00           0.125             NaN           0.015   \n",
       "\n",
       "   Energy_Meter_4  Energy_Meter_5  Energy_Meter_6  Energy_Meter_7  \\\n",
       "0           0.038           0.000             NaN             NaN   \n",
       "1           0.062           0.006             NaN             NaN   \n",
       "2           0.045           0.000             NaN             NaN   \n",
       "3           0.039           0.000             NaN             NaN   \n",
       "4           0.040           0.032             NaN             NaN   \n",
       "\n",
       "   Energy_Meter_8  Energy_Meter_9  ...  Energy_Meter_163  Energy_Meter_164  \\\n",
       "0             NaN             NaN  ...               NaN             0.004   \n",
       "1             NaN             NaN  ...               NaN             0.003   \n",
       "2             NaN             NaN  ...               NaN             0.004   \n",
       "3             NaN             NaN  ...               NaN             0.004   \n",
       "4             NaN             NaN  ...               NaN             0.004   \n",
       "\n",
       "   Energy_Meter_165  Energy_Meter_166  Energy_Meter_167  Energy_Meter_168  \\\n",
       "0               0.0               NaN               NaN               NaN   \n",
       "1               0.0               NaN               NaN               NaN   \n",
       "2               0.0               NaN               NaN               NaN   \n",
       "3               0.0               NaN               NaN               NaN   \n",
       "4               0.0               NaN               NaN               NaN   \n",
       "\n",
       "   Energy_Meter_169  Energy_Meter_170  Energy_Meter_171  Energy_Meter_172  \n",
       "0             0.395               NaN               NaN             0.008  \n",
       "1             0.316               NaN               NaN             0.056  \n",
       "2             0.264               NaN               NaN             0.033  \n",
       "3             0.139               NaN               NaN             0.062  \n",
       "4             0.138               NaN               NaN             0.024  \n",
       "\n",
       "[5 rows x 173 columns]"
      ]
     },
     "execution_count": 54,
     "metadata": {},
     "output_type": "execute_result"
    }
   ],
   "source": [
    "print(f\"Dataset contains {energy_df.shape[0]} rows and {energy_df.shape[1]} columns.\")\n",
    "energy_df.head()"
   ]
  },
  {
   "cell_type": "code",
   "execution_count": 55,
   "metadata": {},
   "outputs": [
    {
     "name": "stdout",
     "output_type": "stream",
     "text": [
      "Time has 8000 unique values: ['2022-05-05 12:00:00' '2022-05-05 12:15:00' '2022-05-05 12:30:00'\n",
      " '2022-05-05 12:45:00' '2022-05-05 13:00:00'] \n",
      "\n"
     ]
    }
   ],
   "source": [
    "# Check unique values for categorical columns in client data\n",
    "for col in energy_df.select_dtypes(include=[\"object\", \"category\"]).columns:\n",
    "    print(f\"{col} has {energy_df[col].nunique()} unique values: {energy_df[col].unique()[:5]}\", '\\n')"
   ]
  },
  {
   "cell_type": "markdown",
   "metadata": {},
   "source": [
    "---\n",
    "### 2.1. Handling Missing Data"
   ]
  },
  {
   "cell_type": "code",
   "execution_count": 56,
   "metadata": {},
   "outputs": [
    {
     "name": "stdout",
     "output_type": "stream",
     "text": [
      "Time                   0\n",
      "Energy_Meter_1         4\n",
      "Energy_Meter_2        96\n",
      "Energy_Meter_3      4240\n",
      "Energy_Meter_4         1\n",
      "                    ... \n",
      "Energy_Meter_168    2298\n",
      "Energy_Meter_169    2421\n",
      "Energy_Meter_170    3631\n",
      "Energy_Meter_171    7420\n",
      "Energy_Meter_172     573\n",
      "Length: 173, dtype: int64\n"
     ]
    }
   ],
   "source": [
    "# check for missing data\n",
    "print(energy_df.isnull().sum())"
   ]
  },
  {
   "cell_type": "code",
   "execution_count": 57,
   "metadata": {},
   "outputs": [],
   "source": [
    "# Assuming df is your DataFrame\n",
    "# List of all meters (e.g. Energy_Meter_1 to Energy_Meter_172)\n",
    "medidores = [f'Energy_Meter_{i}' for i in range(1, 173)]\n",
    "\n",
    "# Fill missing values ​​with the average of the 5 closest meters\n",
    "for medidor in medidores:\n",
    "    medidores_vizinhos = [m for m in medidores if m != medidor][:5]  # 5 random meters as proxy\n",
    "    energy_df[medidor] = energy_df[medidor].fillna(energy_df[medidores_vizinhos].mean(axis=1))"
   ]
  },
  {
   "cell_type": "markdown",
   "metadata": {},
   "source": [
    "### 2.2 Feature Engeneering and Transformation"
   ]
  },
  {
   "cell_type": "markdown",
   "metadata": {},
   "source": [
    "`Transform date columns to datetime type`"
   ]
  },
  {
   "cell_type": "code",
   "execution_count": 58,
   "metadata": {},
   "outputs": [],
   "source": [
    "energy_df.columns = energy_df.columns.str.strip()\n",
    "energy_df['Time']  = pd.to_datetime(energy_df['Time'], errors='coerce')"
   ]
  },
  {
   "cell_type": "markdown",
   "metadata": {},
   "source": [
    "`Energy Feature Engeneering`"
   ]
  },
  {
   "cell_type": "code",
   "execution_count": 59,
   "metadata": {},
   "outputs": [
    {
     "name": "stdout",
     "output_type": "stream",
     "text": [
      "<class 'pandas.core.series.Series'>\n",
      "RangeIndex: 8000 entries, 0 to 7999\n",
      "Series name: Total_Energy_Consumption\n",
      "Non-Null Count  Dtype  \n",
      "--------------  -----  \n",
      "8000 non-null   float64\n",
      "dtypes: float64(1)\n",
      "memory usage: 62.6 KB\n",
      "None\n",
      "0     9.036\n",
      "1     9.613\n",
      "2    10.160\n",
      "3    10.143\n",
      "4     9.850\n",
      "Name: Total_Energy_Consumption, dtype: float64\n"
     ]
    },
    {
     "name": "stderr",
     "output_type": "stream",
     "text": [
      "/var/folders/xj/vmtsvzgs6zj1l876xt4q0nkw0000gn/T/ipykernel_43241/1798902470.py:5: PerformanceWarning: DataFrame is highly fragmented.  This is usually the result of calling `frame.insert` many times, which has poor performance.  Consider joining all columns at once using pd.concat(axis=1) instead. To get a de-fragmented frame, use `newframe = frame.copy()`\n",
      "  energy_df['Total_Energy_Consumption'] = energy_df[meter_cols].sum(axis=1)\n"
     ]
    }
   ],
   "source": [
    "# Identify columns that start with 'Energy_Meter_'\n",
    "meter_cols = [c for c in energy_df.columns if c.startswith('Energy_Meter_')]\n",
    "\n",
    "# Adds these columns row by row and stores them in 'Total_Energy_Consumption'\n",
    "energy_df['Total_Energy_Consumption'] = energy_df[meter_cols].sum(axis=1)\n",
    "\n",
    "\n",
    "# show the result\n",
    "print(energy_df['Total_Energy_Consumption'].info())\n",
    "print(energy_df['Total_Energy_Consumption'].head())"
   ]
  },
  {
   "cell_type": "code",
   "execution_count": 60,
   "metadata": {},
   "outputs": [],
   "source": [
    "# Saving cleaned dataset\n",
    "directory_name = 'dataset'\n",
    "output_filename = 'energy_data_cleaned.csv'\n",
    "\n",
    "# Build the full path\n",
    "output_path = os.path.join(directory_name, output_filename)\n",
    "\n",
    "# Save the DataFrame to a CSV file\n",
    "total_energy.to_csv(output_path, index=False)"
   ]
  }
 ],
 "metadata": {
  "kernelspec": {
   "display_name": "ml-energy",
   "language": "python",
   "name": "python3"
  },
  "language_info": {
   "codemirror_mode": {
    "name": "ipython",
    "version": 3
   },
   "file_extension": ".py",
   "mimetype": "text/x-python",
   "name": "python",
   "nbconvert_exporter": "python",
   "pygments_lexer": "ipython3",
   "version": "3.11.11"
  }
 },
 "nbformat": 4,
 "nbformat_minor": 2
}
