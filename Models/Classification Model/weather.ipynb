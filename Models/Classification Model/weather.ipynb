{
 "cells": [
  {
   "cell_type": "code",
   "execution_count": 20,
   "metadata": {},
   "outputs": [],
   "source": [
    "# Libraries\n",
    "import pandas as pd\n",
    "import numpy as np\n",
    "import os # Library for interacting with the operating system\n",
    "\n",
    "\n",
    "# Visualizations\n",
    "import matplotlib.pyplot as plt\n",
    "\n",
    "# Machine Learning\n",
    "from sklearn.model_selection import train_test_split\n",
    "from sklearn.ensemble import RandomForestClassifier\n",
    "from sklearn.metrics import classification_report, confusion_matrix"
   ]
  },
  {
   "cell_type": "markdown",
   "metadata": {},
   "source": [
    "## 1. Loading Data"
   ]
  },
  {
   "cell_type": "code",
   "execution_count": 21,
   "metadata": {},
   "outputs": [],
   "source": [
    "# load dataset\n",
    "weather_data = pd.read_csv('./dataset/weather_aveiro_final.csv')"
   ]
  },
  {
   "cell_type": "markdown",
   "metadata": {},
   "source": [
    "## 2. Data Preprocessing and Cleaning"
   ]
  },
  {
   "cell_type": "code",
   "execution_count": 22,
   "metadata": {},
   "outputs": [
    {
     "name": "stdout",
     "output_type": "stream",
     "text": [
      "<class 'pandas.core.frame.DataFrame'>\n",
      "RangeIndex: 46608 entries, 0 to 46607\n",
      "Data columns (total 10 columns):\n",
      " #   Column               Non-Null Count  Dtype  \n",
      "---  ------               --------------  -----  \n",
      " 0   Time                 46608 non-null  object \n",
      " 1   Avg_Temp             46602 non-null  float64\n",
      " 2   Avg_Rel_Humidity     46602 non-null  float64\n",
      " 3   Avg_Wind_Direction   46608 non-null  float64\n",
      " 4   Avg_Wind_Speed       46608 non-null  float64\n",
      " 5   Max_Inst_Wind_Speed  46608 non-null  float64\n",
      " 6   Inst_Temp            46603 non-null  float64\n",
      " 7   Quantity_Precip      46608 non-null  float64\n",
      " 8   Max_Inst_Precip      46608 non-null  float64\n",
      " 9   Total_Global_Rad     46603 non-null  float64\n",
      "dtypes: float64(9), object(1)\n",
      "memory usage: 3.6+ MB\n"
     ]
    }
   ],
   "source": [
    "# show general information about the dataset\n",
    "weather_info = weather_data.info()"
   ]
  },
  {
   "cell_type": "code",
   "execution_count": 23,
   "metadata": {},
   "outputs": [],
   "source": [
    "# select the first 8000 lines:\n",
    "weather_data = weather_data.iloc[:8000].reset_index(drop=True)"
   ]
  },
  {
   "cell_type": "code",
   "execution_count": 24,
   "metadata": {},
   "outputs": [
    {
     "name": "stdout",
     "output_type": "stream",
     "text": [
      "Dataset contains 8000 rows and 10 columns.\n"
     ]
    },
    {
     "data": {
      "text/html": [
       "<div>\n",
       "<style scoped>\n",
       "    .dataframe tbody tr th:only-of-type {\n",
       "        vertical-align: middle;\n",
       "    }\n",
       "\n",
       "    .dataframe tbody tr th {\n",
       "        vertical-align: top;\n",
       "    }\n",
       "\n",
       "    .dataframe thead th {\n",
       "        text-align: right;\n",
       "    }\n",
       "</style>\n",
       "<table border=\"1\" class=\"dataframe\">\n",
       "  <thead>\n",
       "    <tr style=\"text-align: right;\">\n",
       "      <th></th>\n",
       "      <th>Time</th>\n",
       "      <th>Avg_Temp</th>\n",
       "      <th>Avg_Rel_Humidity</th>\n",
       "      <th>Avg_Wind_Direction</th>\n",
       "      <th>Avg_Wind_Speed</th>\n",
       "      <th>Max_Inst_Wind_Speed</th>\n",
       "      <th>Inst_Temp</th>\n",
       "      <th>Quantity_Precip</th>\n",
       "      <th>Max_Inst_Precip</th>\n",
       "      <th>Total_Global_Rad</th>\n",
       "    </tr>\n",
       "  </thead>\n",
       "  <tbody>\n",
       "    <tr>\n",
       "      <th>0</th>\n",
       "      <td>2022-05-05 12:00:00</td>\n",
       "      <td>22.70</td>\n",
       "      <td>62.0</td>\n",
       "      <td>305.0</td>\n",
       "      <td>3.80</td>\n",
       "      <td>5.40</td>\n",
       "      <td>24.40</td>\n",
       "      <td>0.0</td>\n",
       "      <td>0.0</td>\n",
       "      <td>526.00</td>\n",
       "    </tr>\n",
       "    <tr>\n",
       "      <th>1</th>\n",
       "      <td>2022-05-05 12:15:00</td>\n",
       "      <td>22.55</td>\n",
       "      <td>63.5</td>\n",
       "      <td>311.5</td>\n",
       "      <td>4.05</td>\n",
       "      <td>5.70</td>\n",
       "      <td>24.55</td>\n",
       "      <td>0.0</td>\n",
       "      <td>0.0</td>\n",
       "      <td>523.35</td>\n",
       "    </tr>\n",
       "    <tr>\n",
       "      <th>2</th>\n",
       "      <td>2022-05-05 12:30:00</td>\n",
       "      <td>22.10</td>\n",
       "      <td>64.0</td>\n",
       "      <td>311.0</td>\n",
       "      <td>4.10</td>\n",
       "      <td>6.00</td>\n",
       "      <td>24.80</td>\n",
       "      <td>0.0</td>\n",
       "      <td>0.0</td>\n",
       "      <td>520.00</td>\n",
       "    </tr>\n",
       "    <tr>\n",
       "      <th>3</th>\n",
       "      <td>2022-05-05 12:45:00</td>\n",
       "      <td>21.95</td>\n",
       "      <td>62.5</td>\n",
       "      <td>300.0</td>\n",
       "      <td>4.45</td>\n",
       "      <td>6.05</td>\n",
       "      <td>24.90</td>\n",
       "      <td>0.0</td>\n",
       "      <td>0.0</td>\n",
       "      <td>514.40</td>\n",
       "    </tr>\n",
       "    <tr>\n",
       "      <th>4</th>\n",
       "      <td>2022-05-05 13:00:00</td>\n",
       "      <td>22.20</td>\n",
       "      <td>62.0</td>\n",
       "      <td>314.0</td>\n",
       "      <td>4.00</td>\n",
       "      <td>5.20</td>\n",
       "      <td>24.90</td>\n",
       "      <td>0.0</td>\n",
       "      <td>0.0</td>\n",
       "      <td>507.00</td>\n",
       "    </tr>\n",
       "  </tbody>\n",
       "</table>\n",
       "</div>"
      ],
      "text/plain": [
       "                  Time  Avg_Temp  Avg_Rel_Humidity  Avg_Wind_Direction  \\\n",
       "0  2022-05-05 12:00:00     22.70              62.0               305.0   \n",
       "1  2022-05-05 12:15:00     22.55              63.5               311.5   \n",
       "2  2022-05-05 12:30:00     22.10              64.0               311.0   \n",
       "3  2022-05-05 12:45:00     21.95              62.5               300.0   \n",
       "4  2022-05-05 13:00:00     22.20              62.0               314.0   \n",
       "\n",
       "   Avg_Wind_Speed  Max_Inst_Wind_Speed  Inst_Temp  Quantity_Precip  \\\n",
       "0            3.80                 5.40      24.40              0.0   \n",
       "1            4.05                 5.70      24.55              0.0   \n",
       "2            4.10                 6.00      24.80              0.0   \n",
       "3            4.45                 6.05      24.90              0.0   \n",
       "4            4.00                 5.20      24.90              0.0   \n",
       "\n",
       "   Max_Inst_Precip  Total_Global_Rad  \n",
       "0              0.0            526.00  \n",
       "1              0.0            523.35  \n",
       "2              0.0            520.00  \n",
       "3              0.0            514.40  \n",
       "4              0.0            507.00  "
      ]
     },
     "execution_count": 24,
     "metadata": {},
     "output_type": "execute_result"
    }
   ],
   "source": [
    "print(f\"Dataset contains {weather_data.shape[0]} rows and {weather_data.shape[1]} columns.\")\n",
    "weather_data.head()"
   ]
  },
  {
   "cell_type": "code",
   "execution_count": 25,
   "metadata": {},
   "outputs": [
    {
     "name": "stdout",
     "output_type": "stream",
     "text": [
      "Time has 8000 unique values: ['2022-05-05 12:00:00' '2022-05-05 12:15:00' '2022-05-05 12:30:00'\n",
      " '2022-05-05 12:45:00' '2022-05-05 13:00:00'] \n",
      "\n"
     ]
    }
   ],
   "source": [
    "# Check unique values for categorical columns in client data\n",
    "for col in weather_data.select_dtypes(include=[\"object\", \"category\"]).columns:\n",
    "    print(f\"{col} has {weather_data[col].nunique()} unique values: {weather_data[col].unique()[:5]}\", '\\n')"
   ]
  },
  {
   "cell_type": "markdown",
   "metadata": {},
   "source": [
    "---\n",
    "### 2.1. Handling Missing Data"
   ]
  },
  {
   "cell_type": "code",
   "execution_count": 26,
   "metadata": {},
   "outputs": [
    {
     "name": "stdout",
     "output_type": "stream",
     "text": [
      "Time                   0\n",
      "Avg_Temp               0\n",
      "Avg_Rel_Humidity       0\n",
      "Avg_Wind_Direction     0\n",
      "Avg_Wind_Speed         0\n",
      "Max_Inst_Wind_Speed    0\n",
      "Inst_Temp              0\n",
      "Quantity_Precip        0\n",
      "Max_Inst_Precip        0\n",
      "Total_Global_Rad       0\n",
      "dtype: int64\n"
     ]
    }
   ],
   "source": [
    "# check for missing data\n",
    "print(weather_data.isnull().sum())"
   ]
  },
  {
   "cell_type": "markdown",
   "metadata": {},
   "source": [
    "### 2.2 Transformation"
   ]
  },
  {
   "cell_type": "markdown",
   "metadata": {},
   "source": [
    "`Transform date columns to datetime type`"
   ]
  },
  {
   "cell_type": "code",
   "execution_count": 27,
   "metadata": {},
   "outputs": [
    {
     "name": "stdout",
     "output_type": "stream",
     "text": [
      "0      2022-05-05 12:00:00\n",
      "1      2022-05-05 12:15:00\n",
      "2      2022-05-05 12:30:00\n",
      "3      2022-05-05 12:45:00\n",
      "4      2022-05-05 13:00:00\n",
      "               ...        \n",
      "7995   2022-07-27 18:45:00\n",
      "7996   2022-07-27 19:00:00\n",
      "7997   2022-07-27 19:15:00\n",
      "7998   2022-07-27 19:30:00\n",
      "7999   2022-07-27 19:45:00\n",
      "Name: Time, Length: 8000, dtype: datetime64[ns]\n"
     ]
    }
   ],
   "source": [
    "date_cols = ['Time']\n",
    "\n",
    "for col in date_cols:\n",
    "    weather_data[col] = pd.to_datetime(weather_data[col], errors='coerce') \n",
    "print(weather_data[col])"
   ]
  },
  {
   "cell_type": "code",
   "execution_count": 28,
   "metadata": {},
   "outputs": [],
   "source": [
    "# Saving cleaned dataset\n",
    "directory_name = 'dataset'\n",
    "output_filename = ' weather_cleaned.csv'\n",
    "\n",
    "# Build the full path\n",
    "output_path = os.path.join(directory_name, output_filename)\n",
    "\n",
    "# Save the DataFrame to a CSV file\n",
    "weather_data.to_csv(output_path, index=False)\n"
   ]
  }
 ],
 "metadata": {
  "kernelspec": {
   "display_name": "ml-energy",
   "language": "python",
   "name": "python3"
  },
  "language_info": {
   "codemirror_mode": {
    "name": "ipython",
    "version": 3
   },
   "file_extension": ".py",
   "mimetype": "text/x-python",
   "name": "python",
   "nbconvert_exporter": "python",
   "pygments_lexer": "ipython3",
   "version": "3.11.11"
  }
 },
 "nbformat": 4,
 "nbformat_minor": 2
}
